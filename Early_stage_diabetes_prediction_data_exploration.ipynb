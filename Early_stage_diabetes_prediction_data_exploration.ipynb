{
 "cells": [
  {
   "cell_type": "markdown",
   "metadata": {
    "colab_type": "text",
    "id": "view-in-github"
   },
   "source": [
    "<a href=\"https://colab.research.google.com/github/soumyabrataroy/Diabetes_Predictor_ML_App/blob/main/Early_stage_diabetes_prediction_data_exploration.ipynb\" target=\"_parent\"><img src=\"https://colab.research.google.com/assets/colab-badge.svg\" alt=\"Open In Colab\"/></a>"
   ]
  },
  {
   "cell_type": "code",
   "execution_count": 6,
   "metadata": {
    "id": "KcrdGtxqapRe"
   },
   "outputs": [],
   "source": [
    "import pandas as pd\n",
    "import numpy as np\n",
    "import matplotlib.pyplot as plt\n",
    "import seaborn as sns"
   ]
  },
  {
   "cell_type": "markdown",
   "metadata": {
    "id": "iEN1YBO_WLvF"
   },
   "source": [
    "# Data Exploration"
   ]
  },
  {
   "cell_type": "markdown",
   "metadata": {
    "id": "x_F5dp2NWV-Z"
   },
   "source": [
    "###Load dataset"
   ]
  },
  {
   "cell_type": "code",
   "execution_count": 7,
   "metadata": {
    "id": "NtpwE8GQWbBu"
   },
   "outputs": [],
   "source": [
    "dataset = pd.read_csv(\"diabetes_data_upload.csv\")"
   ]
  },
  {
   "cell_type": "code",
   "execution_count": 8,
   "metadata": {
    "colab": {
     "base_uri": "https://localhost:8080/",
     "height": 193
    },
    "id": "BCS3UaTMXV6j",
    "outputId": "184bdc1e-c45e-4c7f-ad3c-d0297c3cf3b6"
   },
   "outputs": [
    {
     "data": {
      "text/html": [
       "<div>\n",
       "<style scoped>\n",
       "    .dataframe tbody tr th:only-of-type {\n",
       "        vertical-align: middle;\n",
       "    }\n",
       "\n",
       "    .dataframe tbody tr th {\n",
       "        vertical-align: top;\n",
       "    }\n",
       "\n",
       "    .dataframe thead th {\n",
       "        text-align: right;\n",
       "    }\n",
       "</style>\n",
       "<table border=\"1\" class=\"dataframe\">\n",
       "  <thead>\n",
       "    <tr style=\"text-align: right;\">\n",
       "      <th></th>\n",
       "      <th>Age</th>\n",
       "      <th>Gender</th>\n",
       "      <th>Polyuria</th>\n",
       "      <th>Polydipsia</th>\n",
       "      <th>sudden weight loss</th>\n",
       "      <th>weakness</th>\n",
       "      <th>Polyphagia</th>\n",
       "      <th>Genital thrush</th>\n",
       "      <th>visual blurring</th>\n",
       "      <th>Itching</th>\n",
       "      <th>Irritability</th>\n",
       "      <th>delayed healing</th>\n",
       "      <th>partial paresis</th>\n",
       "      <th>muscle stiffness</th>\n",
       "      <th>Alopecia</th>\n",
       "      <th>Obesity</th>\n",
       "      <th>class</th>\n",
       "    </tr>\n",
       "  </thead>\n",
       "  <tbody>\n",
       "    <tr>\n",
       "      <th>0</th>\n",
       "      <td>40</td>\n",
       "      <td>Male</td>\n",
       "      <td>No</td>\n",
       "      <td>Yes</td>\n",
       "      <td>No</td>\n",
       "      <td>Yes</td>\n",
       "      <td>No</td>\n",
       "      <td>No</td>\n",
       "      <td>No</td>\n",
       "      <td>Yes</td>\n",
       "      <td>No</td>\n",
       "      <td>Yes</td>\n",
       "      <td>No</td>\n",
       "      <td>Yes</td>\n",
       "      <td>Yes</td>\n",
       "      <td>Yes</td>\n",
       "      <td>Positive</td>\n",
       "    </tr>\n",
       "    <tr>\n",
       "      <th>1</th>\n",
       "      <td>58</td>\n",
       "      <td>Male</td>\n",
       "      <td>No</td>\n",
       "      <td>No</td>\n",
       "      <td>No</td>\n",
       "      <td>Yes</td>\n",
       "      <td>No</td>\n",
       "      <td>No</td>\n",
       "      <td>Yes</td>\n",
       "      <td>No</td>\n",
       "      <td>No</td>\n",
       "      <td>No</td>\n",
       "      <td>Yes</td>\n",
       "      <td>No</td>\n",
       "      <td>Yes</td>\n",
       "      <td>No</td>\n",
       "      <td>Positive</td>\n",
       "    </tr>\n",
       "    <tr>\n",
       "      <th>2</th>\n",
       "      <td>41</td>\n",
       "      <td>Male</td>\n",
       "      <td>Yes</td>\n",
       "      <td>No</td>\n",
       "      <td>No</td>\n",
       "      <td>Yes</td>\n",
       "      <td>Yes</td>\n",
       "      <td>No</td>\n",
       "      <td>No</td>\n",
       "      <td>Yes</td>\n",
       "      <td>No</td>\n",
       "      <td>Yes</td>\n",
       "      <td>No</td>\n",
       "      <td>Yes</td>\n",
       "      <td>Yes</td>\n",
       "      <td>No</td>\n",
       "      <td>Positive</td>\n",
       "    </tr>\n",
       "  </tbody>\n",
       "</table>\n",
       "</div>"
      ],
      "text/plain": [
       "   Age Gender Polyuria Polydipsia sudden weight loss weakness Polyphagia  \\\n",
       "0   40   Male       No        Yes                 No      Yes         No   \n",
       "1   58   Male       No         No                 No      Yes         No   \n",
       "2   41   Male      Yes         No                 No      Yes        Yes   \n",
       "\n",
       "  Genital thrush visual blurring Itching Irritability delayed healing  \\\n",
       "0             No              No     Yes           No             Yes   \n",
       "1             No             Yes      No           No              No   \n",
       "2             No              No     Yes           No             Yes   \n",
       "\n",
       "  partial paresis muscle stiffness Alopecia Obesity     class  \n",
       "0              No              Yes      Yes     Yes  Positive  \n",
       "1             Yes               No      Yes      No  Positive  \n",
       "2              No              Yes      Yes      No  Positive  "
      ]
     },
     "execution_count": 8,
     "metadata": {},
     "output_type": "execute_result"
    }
   ],
   "source": [
    "dataset.head(3)"
   ]
  },
  {
   "cell_type": "code",
   "execution_count": 9,
   "metadata": {
    "colab": {
     "base_uri": "https://localhost:8080/"
    },
    "id": "efHU_JDZXcHs",
    "outputId": "e7d573dc-abab-43e4-d2d6-c5d7430211c8"
   },
   "outputs": [
    {
     "name": "stdout",
     "output_type": "stream",
     "text": [
      "<class 'pandas.core.frame.DataFrame'>\n",
      "RangeIndex: 520 entries, 0 to 519\n",
      "Data columns (total 17 columns):\n",
      " #   Column              Non-Null Count  Dtype \n",
      "---  ------              --------------  ----- \n",
      " 0   Age                 520 non-null    int64 \n",
      " 1   Gender              520 non-null    object\n",
      " 2   Polyuria            520 non-null    object\n",
      " 3   Polydipsia          520 non-null    object\n",
      " 4   sudden weight loss  520 non-null    object\n",
      " 5   weakness            520 non-null    object\n",
      " 6   Polyphagia          520 non-null    object\n",
      " 7   Genital thrush      520 non-null    object\n",
      " 8   visual blurring     520 non-null    object\n",
      " 9   Itching             520 non-null    object\n",
      " 10  Irritability        520 non-null    object\n",
      " 11  delayed healing     520 non-null    object\n",
      " 12  partial paresis     520 non-null    object\n",
      " 13  muscle stiffness    520 non-null    object\n",
      " 14  Alopecia            520 non-null    object\n",
      " 15  Obesity             520 non-null    object\n",
      " 16  class               520 non-null    object\n",
      "dtypes: int64(1), object(16)\n",
      "memory usage: 69.2+ KB\n"
     ]
    }
   ],
   "source": [
    "dataset.info()"
   ]
  },
  {
   "cell_type": "markdown",
   "metadata": {
    "id": "3OhCRE9PXsq4"
   },
   "source": [
    "**only age is numerical and there are no any missing data** | Class is the target variable which we need to predict.\n",
    "\n"
   ]
  },
  {
   "cell_type": "code",
   "execution_count": 10,
   "metadata": {
    "colab": {
     "base_uri": "https://localhost:8080/",
     "height": 217
    },
    "id": "Jy8elNtFXlUT",
    "outputId": "20d2d755-3837-41d5-f416-f3ef914a3706"
   },
   "outputs": [
    {
     "data": {
      "image/png": "[encoded data removed]",
      "text/plain": [
       "<Figure size 1440x216 with 1 Axes>"
      ]
     },
     "metadata": {
      "needs_background": "light"
     },
     "output_type": "display_data"
    }
   ],
   "source": [
    "plt.figure(figsize=(20,3))\n",
    "sns.countplot(x=dataset['Age']);"
   ]
  },
  {
   "cell_type": "code",
   "execution_count": 11,
   "metadata": {
    "colab": {
     "base_uri": "https://localhost:8080/",
     "height": 35
    },
    "id": "YXfVV5viYgLT",
    "outputId": "c0e877e5-b273-4eb7-a344-c57a62425113"
   },
   "outputs": [
    {
     "data": {
      "text/plain": [
       "48.02884615384615"
      ]
     },
     "execution_count": 11,
     "metadata": {},
     "output_type": "execute_result"
    }
   ],
   "source": [
    "dataset['Age'].mean()"
   ]
  },
  {
   "cell_type": "markdown",
   "metadata": {
    "id": "JBcYa4aoZubh"
   },
   "source": [
    "From the above figure found out that, most of the people are in the midde age between (30-50)"
   ]
  },
  {
   "cell_type": "code",
   "execution_count": 12,
   "metadata": {
    "colab": {
     "base_uri": "https://localhost:8080/"
    },
    "id": "Pkn2Zh2OZm7Z",
    "outputId": "24fe7e24-dc73-4e5a-81dc-e18724459261"
   },
   "outputs": [
    {
     "data": {
      "text/plain": [
       "320"
      ]
     },
     "execution_count": 12,
     "metadata": {},
     "output_type": "execute_result"
    }
   ],
   "source": [
    "len(dataset[dataset[\"class\"]==\"Positive\"])"
   ]
  },
  {
   "cell_type": "code",
   "execution_count": 13,
   "metadata": {
    "colab": {
     "base_uri": "https://localhost:8080/"
    },
    "id": "x-NK75ozaVIc",
    "outputId": "be90438f-ae4c-4816-aa16-116213d70508"
   },
   "outputs": [
    {
     "data": {
      "text/plain": [
       "200"
      ]
     },
     "execution_count": 13,
     "metadata": {},
     "output_type": "execute_result"
    }
   ],
   "source": [
    "len(dataset[dataset[\"class\"]==\"Negative\"])"
   ]
  },
  {
   "cell_type": "markdown",
   "metadata": {
    "id": "FnY9XZKubPLe"
   },
   "source": [
    "You can see there is a difference between positive and Negative patient count. Positive is 320 and Negative is 200\n"
   ]
  },
  {
   "cell_type": "code",
   "execution_count": null,
   "metadata": {
    "colab": {
     "base_uri": "https://localhost:8080/"
    },
    "id": "oUKeqkCgbEMz",
    "outputId": "2295fb4e-0c51-49d9-f0d4-9846e765c638"
   },
   "outputs": [
    {
     "data": {
      "text/plain": [
       "49.071875"
      ]
     },
     "execution_count": 10,
     "metadata": {
      "tags": []
     },
     "output_type": "execute_result"
    }
   ],
   "source": [
    "dataset[dataset[\"class\"]==\"Positive\"][\"Age\"].mean()"
   ]
  },
  {
   "cell_type": "code",
   "execution_count": null,
   "metadata": {
    "colab": {
     "base_uri": "https://localhost:8080/"
    },
    "id": "ickHhkUqbrB8",
    "outputId": "05403e4a-8f4a-46e5-dbc9-b6322e228241"
   },
   "outputs": [
    {
     "data": {
      "text/plain": [
       "46.36"
      ]
     },
     "execution_count": 11,
     "metadata": {
      "tags": []
     },
     "output_type": "execute_result"
    }
   ],
   "source": [
    "dataset[dataset[\"class\"]==\"Negative\"][\"Age\"].mean()"
   ]
  },
  {
   "cell_type": "code",
   "execution_count": 14,
   "metadata": {
    "colab": {
     "base_uri": "https://localhost:8080/",
     "height": 217
    },
    "id": "LV8louNBbx-Z",
    "outputId": "f1aaa617-2646-4187-f6c7-6bba8a87ae29"
   },
   "outputs": [
    {
     "data": {
      "image/png": "[encoded data removed]",
      "text/plain": [
       "<Figure size 1440x216 with 1 Axes>"
      ]
     },
     "metadata": {
      "needs_background": "light"
     },
     "output_type": "display_data"
    }
   ],
   "source": [
    "plt.figure(figsize=(20,3))\n",
    "sns.countplot(x=dataset[dataset[\"class\"]==\"Positive\"]['Age']);"
   ]
  },
  {
   "cell_type": "code",
   "execution_count": 15,
   "metadata": {
    "colab": {
     "base_uri": "https://localhost:8080/",
     "height": 215
    },
    "id": "B-NN2OBMcEXK",
    "outputId": "0aececbc-f771-43ff-ce43-3f0144e92cda"
   },
   "outputs": [
    {
     "data": {
      "image/png": "[encoded data removed]",
      "text/plain": [
       "<Figure size 1440x216 with 1 Axes>"
      ]
     },
     "metadata": {
      "needs_background": "light"
     },
     "output_type": "display_data"
    }
   ],
   "source": [
    "plt.figure(figsize=(20,3))\n",
    "sns.countplot(x=dataset[dataset[\"class\"]==\"Negative\"]['Age']);"
   ]
  },
  {
   "cell_type": "markdown",
   "metadata": {
    "id": "OiZrAj1AdHwI"
   },
   "source": [
    "Although Positive and Negative have different number of counts, their age distribution is almost similar\n"
   ]
  },
  {
   "cell_type": "markdown",
   "metadata": {
    "id": "7wDlSRBSdnSF"
   },
   "source": [
    "All other features are categorica data. so need to convert them in numerical data. After conversion, we will match up the Positive and Negative data counts and will apply different algorithms to find out best algo for the prediction"
   ]
  },
  {
   "cell_type": "markdown",
   "metadata": {
    "id": "b0fQ7CojzLtU"
   },
   "source": [
    "# Converting the data to numerical ones"
   ]
  },
  {
   "cell_type": "code",
   "execution_count": 17,
   "metadata": {
    "id": "CKhkzkhRegRu"
   },
   "outputs": [],
   "source": [
    "converted_data=pd.get_dummies(dataset, prefix=['Gender', 'Polyuria', 'Polydipsia', 'sudden weight loss',\n",
    "       'weakness', 'Polyphagia', 'Genital thrush', 'visual blurring',\n",
    "       'Itching', 'Irritability', 'delayed healing', 'partial paresis',\n",
    "       'muscle stiffness', 'Alopecia', 'Obesity', 'class'], drop_first=True)"
   ]
  },
  {
   "cell_type": "code",
   "execution_count": null,
   "metadata": {
    "colab": {
     "base_uri": "https://localhost:8080/",
     "height": 163
    },
    "id": "BwF3YMD1zsRR",
    "outputId": "f91d507e-2b73-4215-ea55-cf05fb600ef5"
   },
   "outputs": [
    {
     "data": {
      "text/html": [
       "<div>\n",
       "<style scoped>\n",
       "    .dataframe tbody tr th:only-of-type {\n",
       "        vertical-align: middle;\n",
       "    }\n",
       "\n",
       "    .dataframe tbody tr th {\n",
       "        vertical-align: top;\n",
       "    }\n",
       "\n",
       "    .dataframe thead th {\n",
       "        text-align: right;\n",
       "    }\n",
       "</style>\n",
       "<table border=\"1\" class=\"dataframe\">\n",
       "  <thead>\n",
       "    <tr style=\"text-align: right;\">\n",
       "      <th></th>\n",
       "      <th>Age</th>\n",
       "      <th>Gender_Male</th>\n",
       "      <th>Polyuria_Yes</th>\n",
       "      <th>Polydipsia_Yes</th>\n",
       "      <th>sudden weight loss_Yes</th>\n",
       "      <th>weakness_Yes</th>\n",
       "      <th>Polyphagia_Yes</th>\n",
       "      <th>Genital thrush_Yes</th>\n",
       "      <th>visual blurring_Yes</th>\n",
       "      <th>Itching_Yes</th>\n",
       "      <th>Irritability_Yes</th>\n",
       "      <th>delayed healing_Yes</th>\n",
       "      <th>partial paresis_Yes</th>\n",
       "      <th>muscle stiffness_Yes</th>\n",
       "      <th>Alopecia_Yes</th>\n",
       "      <th>Obesity_Yes</th>\n",
       "      <th>class_Positive</th>\n",
       "    </tr>\n",
       "  </thead>\n",
       "  <tbody>\n",
       "    <tr>\n",
       "      <th>0</th>\n",
       "      <td>40</td>\n",
       "      <td>1</td>\n",
       "      <td>0</td>\n",
       "      <td>1</td>\n",
       "      <td>0</td>\n",
       "      <td>1</td>\n",
       "      <td>0</td>\n",
       "      <td>0</td>\n",
       "      <td>0</td>\n",
       "      <td>1</td>\n",
       "      <td>0</td>\n",
       "      <td>1</td>\n",
       "      <td>0</td>\n",
       "      <td>1</td>\n",
       "      <td>1</td>\n",
       "      <td>1</td>\n",
       "      <td>1</td>\n",
       "    </tr>\n",
       "    <tr>\n",
       "      <th>1</th>\n",
       "      <td>58</td>\n",
       "      <td>1</td>\n",
       "      <td>0</td>\n",
       "      <td>0</td>\n",
       "      <td>0</td>\n",
       "      <td>1</td>\n",
       "      <td>0</td>\n",
       "      <td>0</td>\n",
       "      <td>1</td>\n",
       "      <td>0</td>\n",
       "      <td>0</td>\n",
       "      <td>0</td>\n",
       "      <td>1</td>\n",
       "      <td>0</td>\n",
       "      <td>1</td>\n",
       "      <td>0</td>\n",
       "      <td>1</td>\n",
       "    </tr>\n",
       "  </tbody>\n",
       "</table>\n",
       "</div>"
      ],
      "text/plain": [
       "   Age  Gender_Male  Polyuria_Yes  ...  Alopecia_Yes  Obesity_Yes  class_Positive\n",
       "0   40            1             0  ...             1            1               1\n",
       "1   58            1             0  ...             1            0               1\n",
       "\n",
       "[2 rows x 17 columns]"
      ]
     },
     "execution_count": 17,
     "metadata": {
      "tags": []
     },
     "output_type": "execute_result"
    }
   ],
   "source": [
    "converted_data.head(2)"
   ]
  },
  {
   "cell_type": "markdown",
   "metadata": {
    "id": "eJ4Te8L42-Zy"
   },
   "source": [
    "Collinearity check"
   ]
  },
  {
   "cell_type": "code",
   "execution_count": 18,
   "metadata": {
    "colab": {
     "base_uri": "https://localhost:8080/",
     "height": 336
    },
    "id": "RaMGeeUF3gC1",
    "outputId": "49e00b9c-bd39-406e-87cb-af9cb71e2908"
   },
   "outputs": [
    {
     "data": {
      "text/plain": [
       "<AxesSubplot:>"
      ]
     },
     "execution_count": 18,
     "metadata": {},
     "output_type": "execute_result"
    },
    {
     "data": {
      "image/png": "[encoded data removed]",
      "text/plain": [
       "<Figure size 864x216 with 1 Axes>"
      ]
     },
     "metadata": {
      "needs_background": "light"
     },
     "output_type": "display_data"
    }
   ],
   "source": [
    "plt.figure(figsize=(12,3))\n",
    "converted_data.corr()['class_Positive'][:-1].plot(kind='bar')"
   ]
  },
  {
   "cell_type": "markdown",
   "metadata": {
    "id": "vMgmGHQW6NKT"
   },
   "source": [
    "from the above analysis we coud say Polyuria, Pydipsia could be the main symptons of diabities.\n",
    "As features don't have much correations to each other. we can take all the features for analysis of diabities detection"
   ]
  },
  {
   "cell_type": "code",
   "execution_count": 19,
   "metadata": {
    "id": "oYMuIQPY3-k7"
   },
   "outputs": [],
   "source": [
    "from sklearn.model_selection import train_test_split\n",
    "X_train, X_test, y_train, y_test = train_test_split(converted_data.drop('class_Positive', axis=1),converted_data['class_Positive'], test_size=0.3, random_state=0)"
   ]
  },
  {
   "cell_type": "code",
   "execution_count": 20,
   "metadata": {
    "id": "pWdQDcrm7Vvc"
   },
   "outputs": [],
   "source": [
    "from sklearn.preprocessing import StandardScaler\n",
    "sc=StandardScaler()\n",
    "X_train = sc.fit_transform(X_train)\n",
    "X_test = sc.transform(X_test)"
   ]
  },
  {
   "cell_type": "markdown",
   "metadata": {
    "id": "W1zzCkaVBVKM"
   },
   "source": [
    "# Logistic regression"
   ]
  },
  {
   "cell_type": "code",
   "execution_count": 21,
   "metadata": {
    "colab": {
     "base_uri": "https://localhost:8080/"
    },
    "id": "U44B3EF78MwM",
    "outputId": "f18bb19f-6ea0-4fd9-9934-4146ada40408"
   },
   "outputs": [
    {
     "data": {
      "text/plain": [
       "LogisticRegression(random_state=0)"
      ]
     },
     "execution_count": 21,
     "metadata": {},
     "output_type": "execute_result"
    }
   ],
   "source": [
    "from sklearn.linear_model import LogisticRegression\n",
    "classifier = LogisticRegression(random_state = 0)\n",
    "classifier.fit(X_train, y_train)"
   ]
  },
  {
   "cell_type": "code",
   "execution_count": 22,
   "metadata": {
    "id": "jceyFEP9ASxm"
   },
   "outputs": [],
   "source": [
    "y_pred = classifier.predict(X_test)"
   ]
  },
  {
   "cell_type": "code",
   "execution_count": 23,
   "metadata": {
    "colab": {
     "base_uri": "https://localhost:8080/"
    },
    "id": "-iLGh4CmAfq9",
    "outputId": "ade74db7-dcb1-4a92-defd-12c480e66e55"
   },
   "outputs": [
    {
     "name": "stdout",
     "output_type": "stream",
     "text": [
      "[[56  6]\n",
      " [ 5 89]]\n"
     ]
    },
    {
     "data": {
      "text/plain": [
       "0.9294871794871795"
      ]
     },
     "execution_count": 23,
     "metadata": {},
     "output_type": "execute_result"
    }
   ],
   "source": [
    "from sklearn.metrics import confusion_matrix, accuracy_score\n",
    "cm = confusion_matrix(y_test, y_pred)\n",
    "print(cm)\n",
    "accuracy_score(y_test, y_pred)"
   ]
  },
  {
   "cell_type": "code",
   "execution_count": 24,
   "metadata": {
    "colab": {
     "base_uri": "https://localhost:8080/"
    },
    "id": "mbLSToIcAtpy",
    "outputId": "50c07eb1-05be-4199-c97f-e5b4d0b71d4d"
   },
   "outputs": [
    {
     "name": "stdout",
     "output_type": "stream",
     "text": [
      "Accuracy: 92.30 %\n",
      "Standard Deviation: 3.68 %\n"
     ]
    }
   ],
   "source": [
    "from sklearn.model_selection import cross_val_score\n",
    "accuracies = cross_val_score(estimator = classifier, X = X_train, y = y_train, cv = 10)\n",
    "print(\"Accuracy: {:.2f} %\".format(accuracies.mean()*100))\n",
    "print(\"Standard Deviation: {:.2f} %\".format(accuracies.std()*100))"
   ]
  },
  {
   "cell_type": "markdown",
   "metadata": {
    "id": "kUoQPaabBdIW"
   },
   "source": [
    "# KNearest Neabour"
   ]
  },
  {
   "cell_type": "code",
   "execution_count": 25,
   "metadata": {
    "colab": {
     "base_uri": "https://localhost:8080/"
    },
    "id": "uuWg4xYmBNoj",
    "outputId": "b5cfdd81-e654-4e97-cdd3-0c47a4aa40da"
   },
   "outputs": [
    {
     "data": {
      "text/plain": [
       "KNeighborsClassifier()"
      ]
     },
     "execution_count": 25,
     "metadata": {},
     "output_type": "execute_result"
    }
   ],
   "source": [
    "from sklearn.neighbors import KNeighborsClassifier\n",
    "classifier = KNeighborsClassifier(n_neighbors = 5, metric = 'minkowski', p = 2)\n",
    "classifier.fit(X_train, y_train)"
   ]
  },
  {
   "cell_type": "code",
   "execution_count": 26,
   "metadata": {
    "id": "DHdjG6LxB6DD"
   },
   "outputs": [],
   "source": [
    "y_pred = classifier.predict(X_test)"
   ]
  },
  {
   "cell_type": "code",
   "execution_count": 27,
   "metadata": {
    "colab": {
     "base_uri": "https://localhost:8080/"
    },
    "id": "Q1kducExCAZN",
    "outputId": "8403a632-a973-4918-f607-ed05951ad608"
   },
   "outputs": [
    {
     "name": "stdout",
     "output_type": "stream",
     "text": [
      "[[58  4]\n",
      " [ 9 85]]\n"
     ]
    },
    {
     "data": {
      "text/plain": [
       "0.9166666666666666"
      ]
     },
     "execution_count": 27,
     "metadata": {},
     "output_type": "execute_result"
    }
   ],
   "source": [
    "cm = confusion_matrix(y_test, y_pred)\n",
    "print(cm)\n",
    "accuracy_score(y_test, y_pred)"
   ]
  },
  {
   "cell_type": "code",
   "execution_count": 28,
   "metadata": {
    "colab": {
     "base_uri": "https://localhost:8080/"
    },
    "id": "11ziUH_JCHKg",
    "outputId": "b3939e2d-18cb-49da-cc72-84a4aa4c7a0d"
   },
   "outputs": [
    {
     "name": "stdout",
     "output_type": "stream",
     "text": [
      "Accuracy: 90.92 %\n",
      "Standard Deviation: 3.52 %\n"
     ]
    }
   ],
   "source": [
    "accuracies = cross_val_score(estimator = classifier, X = X_train, y = y_train, cv = 10)\n",
    "print(\"Accuracy: {:.2f} %\".format(accuracies.mean()*100))\n",
    "print(\"Standard Deviation: {:.2f} %\".format(accuracies.std()*100))"
   ]
  },
  {
   "cell_type": "markdown",
   "metadata": {
    "id": "hABX0KShClo2"
   },
   "source": [
    "# Support Vector Linear classifier"
   ]
  },
  {
   "cell_type": "code",
   "execution_count": 29,
   "metadata": {
    "colab": {
     "base_uri": "https://localhost:8080/"
    },
    "id": "X-q53T-5CN9W",
    "outputId": "f0825f16-9c74-4b42-a901-976bed40b8d4"
   },
   "outputs": [
    {
     "data": {
      "text/plain": [
       "SVC(kernel='linear', random_state=0)"
      ]
     },
     "execution_count": 29,
     "metadata": {},
     "output_type": "execute_result"
    }
   ],
   "source": [
    "from sklearn.svm import SVC\n",
    "classifier = SVC(kernel = 'linear', random_state = 0)\n",
    "classifier.fit(X_train, y_train)"
   ]
  },
  {
   "cell_type": "code",
   "execution_count": 30,
   "metadata": {
    "id": "ZmA1rDWCCj_1"
   },
   "outputs": [],
   "source": [
    "y_pred = classifier.predict(X_test)"
   ]
  },
  {
   "cell_type": "code",
   "execution_count": 31,
   "metadata": {
    "colab": {
     "base_uri": "https://localhost:8080/"
    },
    "id": "oFNxOP1HCvz1",
    "outputId": "507a651c-43f6-4a17-dc32-0e7fe1a67c8d"
   },
   "outputs": [
    {
     "name": "stdout",
     "output_type": "stream",
     "text": [
      "[[54  8]\n",
      " [ 5 89]]\n"
     ]
    },
    {
     "data": {
      "text/plain": [
       "0.9166666666666666"
      ]
     },
     "execution_count": 31,
     "metadata": {},
     "output_type": "execute_result"
    }
   ],
   "source": [
    "cm = confusion_matrix(y_test, y_pred)\n",
    "print(cm)\n",
    "accuracy_score(y_test, y_pred)"
   ]
  },
  {
   "cell_type": "code",
   "execution_count": 32,
   "metadata": {
    "colab": {
     "base_uri": "https://localhost:8080/"
    },
    "id": "_MWvZFNVCylN",
    "outputId": "afaf8954-1f42-4929-aafb-e7f07736b4e7"
   },
   "outputs": [
    {
     "name": "stdout",
     "output_type": "stream",
     "text": [
      "Accuracy: 90.39 %\n",
      "Standard Deviation: 3.72 %\n"
     ]
    }
   ],
   "source": [
    "accuracies = cross_val_score(estimator = classifier, X = X_train, y = y_train, cv = 10)\n",
    "print(\"Accuracy: {:.2f} %\".format(accuracies.mean()*100))\n",
    "print(\"Standard Deviation: {:.2f} %\".format(accuracies.std()*100))"
   ]
  },
  {
   "cell_type": "markdown",
   "metadata": {
    "id": "LXB2rYtMD2-v"
   },
   "source": [
    "# Naive Bayes"
   ]
  },
  {
   "cell_type": "code",
   "execution_count": 35,
   "metadata": {
    "colab": {
     "base_uri": "https://localhost:8080/"
    },
    "id": "d5y29APqDg8W",
    "outputId": "f7b676b9-7486-4f0c-c3ff-ec496085d705"
   },
   "outputs": [
    {
     "data": {
      "text/plain": [
       "GaussianNB()"
      ]
     },
     "execution_count": 35,
     "metadata": {},
     "output_type": "execute_result"
    }
   ],
   "source": [
    "from sklearn.naive_bayes import GaussianNB\n",
    "classifier = GaussianNB()\n",
    "classifier.fit(X_train, y_train)"
   ]
  },
  {
   "cell_type": "code",
   "execution_count": 36,
   "metadata": {
    "id": "K2cJka_jD9Pt"
   },
   "outputs": [],
   "source": [
    "y_pred = classifier.predict(X_test)"
   ]
  },
  {
   "cell_type": "code",
   "execution_count": 37,
   "metadata": {
    "colab": {
     "base_uri": "https://localhost:8080/"
    },
    "id": "0CgwcQDwEBWf",
    "outputId": "eafa1f17-476b-45e9-ebf9-1bf3ff7cd719"
   },
   "outputs": [
    {
     "name": "stdout",
     "output_type": "stream",
     "text": [
      "[[50 12]\n",
      " [ 5 89]]\n"
     ]
    },
    {
     "data": {
      "text/plain": [
       "0.8910256410256411"
      ]
     },
     "execution_count": 37,
     "metadata": {},
     "output_type": "execute_result"
    }
   ],
   "source": [
    "cm = confusion_matrix(y_test, y_pred)\n",
    "print(cm)\n",
    "accuracy_score(y_test, y_pred)"
   ]
  },
  {
   "cell_type": "code",
   "execution_count": 38,
   "metadata": {
    "colab": {
     "base_uri": "https://localhost:8080/"
    },
    "id": "3rCpwtjUEEBV",
    "outputId": "09897553-11b5-4c62-de21-131438962975"
   },
   "outputs": [
    {
     "name": "stdout",
     "output_type": "stream",
     "text": [
      "Accuracy: 88.21 %\n",
      "Standard Deviation: 5.33 %\n"
     ]
    }
   ],
   "source": [
    "accuracies = cross_val_score(estimator = classifier, X = X_train, y = y_train, cv = 10)\n",
    "print(\"Accuracy: {:.2f} %\".format(accuracies.mean()*100))\n",
    "print(\"Standard Deviation: {:.2f} %\".format(accuracies.std()*100))"
   ]
  },
  {
   "cell_type": "markdown",
   "metadata": {
    "id": "YH2sS0yGELxL"
   },
   "source": [
    "# Decision Tree"
   ]
  },
  {
   "cell_type": "code",
   "execution_count": 39,
   "metadata": {
    "colab": {
     "base_uri": "https://localhost:8080/"
    },
    "id": "Ftcvf5dZEHPe",
    "outputId": "cbc9087c-70a1-4714-aaea-3dc2905cbc0f"
   },
   "outputs": [
    {
     "data": {
      "text/plain": [
       "DecisionTreeClassifier(criterion='entropy', random_state=0)"
      ]
     },
     "execution_count": 39,
     "metadata": {},
     "output_type": "execute_result"
    }
   ],
   "source": [
    "from sklearn.tree import DecisionTreeClassifier\n",
    "classifier = DecisionTreeClassifier(criterion = 'entropy', random_state = 0)\n",
    "classifier.fit(X_train, y_train)"
   ]
  },
  {
   "cell_type": "code",
   "execution_count": 40,
   "metadata": {
    "id": "uw24RhVeEmTq"
   },
   "outputs": [],
   "source": [
    "y_pred = classifier.predict(X_test)"
   ]
  },
  {
   "cell_type": "code",
   "execution_count": 41,
   "metadata": {
    "colab": {
     "base_uri": "https://localhost:8080/"
    },
    "id": "wmmsz4ybEqab",
    "outputId": "d5bd8257-fa39-46e6-b430-09ff3e28efcb"
   },
   "outputs": [
    {
     "name": "stdout",
     "output_type": "stream",
     "text": [
      "[[61  1]\n",
      " [ 3 91]]\n"
     ]
    },
    {
     "data": {
      "text/plain": [
       "0.9743589743589743"
      ]
     },
     "execution_count": 41,
     "metadata": {},
     "output_type": "execute_result"
    }
   ],
   "source": [
    "cm = confusion_matrix(y_test, y_pred)\n",
    "print(cm)\n",
    "accuracy_score(y_test, y_pred)"
   ]
  },
  {
   "cell_type": "code",
   "execution_count": 42,
   "metadata": {
    "colab": {
     "base_uri": "https://localhost:8080/"
    },
    "id": "MPlzcszfEtPV",
    "outputId": "b9dc4301-ad6d-4b5f-d267-7b711508b5a1"
   },
   "outputs": [
    {
     "name": "stdout",
     "output_type": "stream",
     "text": [
      "Accuracy: 96.16 %\n",
      "Standard Deviation: 2.21 %\n"
     ]
    }
   ],
   "source": [
    "accuracies = cross_val_score(estimator = classifier, X = X_train, y = y_train, cv = 10)\n",
    "print(\"Accuracy: {:.2f} %\".format(accuracies.mean()*100))\n",
    "print(\"Standard Deviation: {:.2f} %\".format(accuracies.std()*100))"
   ]
  },
  {
   "cell_type": "markdown",
   "metadata": {
    "id": "gXyLNwRWE27j"
   },
   "source": [
    "# Random Forest"
   ]
  },
  {
   "cell_type": "code",
   "execution_count": null,
   "metadata": {
    "colab": {
     "base_uri": "https://localhost:8080/"
    },
    "id": "WQPKLz9xEwFT",
    "outputId": "660baf2e-31b2-4d3c-99c6-b2e23b816d66"
   },
   "outputs": [
    {
     "data": {
      "text/plain": [
       "RandomForestClassifier(bootstrap=True, ccp_alpha=0.0, class_weight=None,\n",
       "                       criterion='entropy', max_depth=None, max_features='auto',\n",
       "                       max_leaf_nodes=None, max_samples=None,\n",
       "                       min_impurity_decrease=0.0, min_impurity_split=None,\n",
       "                       min_samples_leaf=1, min_samples_split=2,\n",
       "                       min_weight_fraction_leaf=0.0, n_estimators=10,\n",
       "                       n_jobs=None, oob_score=False, random_state=0, verbose=0,\n",
       "                       warm_start=False)"
      ]
     },
     "execution_count": 53,
     "metadata": {
      "tags": []
     },
     "output_type": "execute_result"
    }
   ],
   "source": [
    "from sklearn.ensemble import RandomForestClassifier\n",
    "RF_classifier = RandomForestClassifier(n_estimators = 10, criterion = 'entropy', random_state = 0)\n",
    "RF_classifier.fit(X_train, y_train)"
   ]
  },
  {
   "cell_type": "code",
   "execution_count": null,
   "metadata": {
    "id": "RSpk5oULFHtl"
   },
   "outputs": [],
   "source": [
    "y_pred = RF_classifier.predict(X_test)"
   ]
  },
  {
   "cell_type": "code",
   "execution_count": null,
   "metadata": {
    "colab": {
     "base_uri": "https://localhost:8080/"
    },
    "id": "H-Zw5acDFQZI",
    "outputId": "ed1b8438-86ec-4bdd-ba1e-d3c3134e9247"
   },
   "outputs": [
    {
     "name": "stdout",
     "output_type": "stream",
     "text": [
      "[[61  1]\n",
      " [ 2 92]]\n"
     ]
    },
    {
     "data": {
      "text/plain": [
       "0.9807692307692307"
      ]
     },
     "execution_count": 55,
     "metadata": {
      "tags": []
     },
     "output_type": "execute_result"
    }
   ],
   "source": [
    "cm = confusion_matrix(y_test, y_pred)\n",
    "print(cm)\n",
    "accuracy_score(y_test, y_pred)"
   ]
  },
  {
   "cell_type": "code",
   "execution_count": null,
   "metadata": {
    "colab": {
     "base_uri": "https://localhost:8080/"
    },
    "id": "xmQHOixoFMUh",
    "outputId": "a9c028ba-09f2-419b-d290-3a483ace166e"
   },
   "outputs": [
    {
     "name": "stdout",
     "output_type": "stream",
     "text": [
      "Accuracy: 97.55 %\n",
      "Standard Deviation: 2.55 %\n"
     ]
    }
   ],
   "source": [
    "accuracies = cross_val_score(estimator = RF_classifier, X = X_train, y = y_train, cv = 10)\n",
    "print(\"Accuracy: {:.2f} %\".format(accuracies.mean()*100))\n",
    "print(\"Standard Deviation: {:.2f} %\".format(accuracies.std()*100))"
   ]
  },
  {
   "cell_type": "code",
   "execution_count": null,
   "metadata": {
    "colab": {
     "base_uri": "https://localhost:8080/",
     "height": 201
    },
    "id": "S1pWkko5BIRS",
    "outputId": "d5295ff2-ad80-4165-fb8f-781758c77858"
   },
   "outputs": [
    {
     "name": "stdout",
     "output_type": "stream",
     "text": [
      "Collecting pickle-mixin\n",
      "  Downloading https://files.pythonhosted.org/packages/02/77/9d5eb2201bbc130e2a5cc41fc949e4ab0da74b619107eac1c511be3af7a7/pickle-mixin-1.0.2.tar.gz\n",
      "Building wheels for collected packages: pickle-mixin\n",
      "  Building wheel for pickle-mixin (setup.py) ... \u001b[?25l\u001b[?25hdone\n",
      "  Created wheel for pickle-mixin: filename=pickle_mixin-1.0.2-cp36-none-any.whl size=6000 sha256=9a483a8b3b164263e8c0d8d49dde9b9e84fd095a044a42b55aa88bd183b96248\n",
      "  Stored in directory: /root/.cache/pip/wheels/cd/05/42/71de70fa36b9cbb7657bb5793a16f8028c1cdc1bdd3b8e1ac3\n",
      "Successfully built pickle-mixin\n",
      "Installing collected packages: pickle-mixin\n",
      "Successfully installed pickle-mixin-1.0.2\n"
     ]
    }
   ],
   "source": [
    "!pip install pickle-mixin"
   ]
  },
  {
   "cell_type": "code",
   "execution_count": null,
   "metadata": {
    "id": "8W0V8OA7BsVm"
   },
   "outputs": [],
   "source": [
    "import joblib\n",
    "\n",
    "diabetic_predictor = joblib.load(\"diabetic_predictor\")\n",
    "scaled_data = joblib.load(\"Standard Scalar\")"
   ]
  },
  {
   "cell_type": "markdown",
   "metadata": {
    "id": "cxU2yrAuFj12"
   },
   "source": [
    "From the above resuts we can say that random forest perform best with 97% accuracy\n",
    "Just to cross check if we could get better results with Catboost "
   ]
  },
  {
   "cell_type": "markdown",
   "metadata": {
    "id": "0225QCMpfMij"
   },
   "source": [
    "# XG boost"
   ]
  },
  {
   "cell_type": "code",
   "execution_count": null,
   "metadata": {
    "colab": {
     "base_uri": "https://localhost:8080/"
    },
    "id": "2MbLHtd6GyDF",
    "outputId": "fa462a04-d9e4-48db-aeb2-736c852ee167"
   },
   "outputs": [
    {
     "name": "stdout",
     "output_type": "stream",
     "text": [
      "Requirement already satisfied: xgboost in /usr/local/lib/python3.6/dist-packages (0.90)\n",
      "Requirement already satisfied: scipy in /usr/local/lib/python3.6/dist-packages (from xgboost) (1.4.1)\n",
      "Requirement already satisfied: numpy in /usr/local/lib/python3.6/dist-packages (from xgboost) (1.18.5)\n"
     ]
    }
   ],
   "source": [
    "!pip install xgboost"
   ]
  },
  {
   "cell_type": "code",
   "execution_count": null,
   "metadata": {
    "id": "tVLBZozMgx6Y"
   },
   "outputs": [],
   "source": [
    "import xgboost as xgb"
   ]
  },
  {
   "cell_type": "code",
   "execution_count": null,
   "metadata": {
    "id": "mDkJxMYPfka6"
   },
   "outputs": [],
   "source": [
    "D_train = xgb.DMatrix(X_train, label=y_train)\n",
    "D_test = xgb.DMatrix(X_test, label=y_test)"
   ]
  },
  {
   "cell_type": "code",
   "execution_count": null,
   "metadata": {
    "id": "qMDHwvw6fZ4n"
   },
   "outputs": [],
   "source": [
    "param = {\n",
    "    'eta': 0.3, \n",
    "    'max_depth': 3,  \n",
    "    'objective': 'multi:softprob',  \n",
    "    'num_class': 3} \n",
    "\n",
    "steps = 20  # The number of training iterations"
   ]
  },
  {
   "cell_type": "code",
   "execution_count": null,
   "metadata": {
    "id": "GmgGByrphOjz"
   },
   "outputs": [],
   "source": [
    "model = xgb.train(param, D_train, steps)"
   ]
  },
  {
   "cell_type": "code",
   "execution_count": null,
   "metadata": {
    "colab": {
     "base_uri": "https://localhost:8080/"
    },
    "id": "QMBV3L3ahURx",
    "outputId": "dcf9f541-ae8e-47a6-daf3-cd165b8015dc"
   },
   "outputs": [
    {
     "name": "stdout",
     "output_type": "stream",
     "text": [
      "Precision = 0.9521249359959038\n",
      "Recall = 0.9545298558682225\n",
      "Accuracy = 0.9551282051282052\n"
     ]
    }
   ],
   "source": [
    "import numpy as np\n",
    "from sklearn.metrics import precision_score, recall_score, accuracy_score\n",
    "\n",
    "preds = model.predict(D_test)\n",
    "best_preds = np.asarray([np.argmax(line) for line in preds])\n",
    "\n",
    "print(\"Precision = {}\".format(precision_score(y_test, best_preds, average='macro')))\n",
    "print(\"Recall = {}\".format(recall_score(y_test, best_preds, average='macro')))\n",
    "print(\"Accuracy = {}\".format(accuracy_score(y_test, best_preds)))"
   ]
  },
  {
   "cell_type": "markdown",
   "metadata": {
    "id": "X5SbUCkRpNpE"
   },
   "source": [
    "# Conclusion"
   ]
  },
  {
   "cell_type": "markdown",
   "metadata": {
    "id": "dW7OiNIInXyU"
   },
   "source": [
    "**from above experiments, we could conclude that Random Forest performs better among all. Hence, we will use random forest classifier to create the early stage diabitic predictor**"
   ]
  },
  {
   "cell_type": "code",
   "execution_count": null,
   "metadata": {
    "id": "gYCbAGNYsoqy"
   },
   "outputs": [],
   "source": []
  },
  {
   "cell_type": "markdown",
   "metadata": {
    "id": "ENiIiTSX4u4h"
   },
   "source": [
    "# Saving the best model"
   ]
  },
  {
   "cell_type": "code",
   "execution_count": null,
   "metadata": {
    "colab": {
     "base_uri": "https://localhost:8080/"
    },
    "id": "gsrhimGo4z7m",
    "outputId": "82bf872d-8351-4ba4-a137-123bd0784fa1"
   },
   "outputs": [
    {
     "data": {
      "text/plain": [
       "['Standard Scalar']"
      ]
     },
     "execution_count": 61,
     "metadata": {
      "tags": []
     },
     "output_type": "execute_result"
    }
   ],
   "source": [
    "import joblib\n",
    "# saveing the model on disk\n",
    "joblib.dump(RF_classifier,\"diabetic_predictor\")\n",
    "joblib.dump(sc,\"Standard Scalar\")"
   ]
  },
  {
   "cell_type": "code",
   "execution_count": null,
   "metadata": {
    "colab": {
     "base_uri": "https://localhost:8080/"
    },
    "id": "lNRl_0hV51ZR",
    "outputId": "2d83c142-2a11-41e6-c415-6745751497bd"
   },
   "outputs": [
    {
     "name": "stdout",
     "output_type": "stream",
     "text": [
      "0.9807692307692307\n"
     ]
    }
   ],
   "source": [
    "# load the model from disk\n",
    "loaded_model = joblib.load(\"diabetic_predictor\")\n",
    "result = loaded_model.score(X_test, y_test)\n",
    "print(result)"
   ]
  },
  {
   "cell_type": "markdown",
   "metadata": {
    "id": "uGMHXyop6jdj"
   },
   "source": [
    "now we have downloaded the model and test it again to verify if it is working properly or not. \n",
    "It is time to deploy the model for people to use it."
   ]
  }
 ],
 "metadata": {
  "colab": {
   "authorship_tag": "ABX9TyNpqDgeVOxaC32wW4ZWUWgt",
   "include_colab_link": true,
   "name": "Early stage diabetes prediction data exploration",
   "provenance": []
  },
  "kernelspec": {
   "display_name": "Python 3 (ipykernel)",
   "language": "python",
   "name": "python3"
  },
  "language_info": {
   "codemirror_mode": {
    "name": "ipython",
    "version": 3
   },
   "file_extension": ".py",
   "mimetype": "text/x-python",
   "name": "python",
   "nbconvert_exporter": "python",
   "pygments_lexer": "ipython3",
   "version": "3.9.7"
  },
  "widgets": {
   "application/vnd.jupyter.widget-state+json": {
    "025735f1bec04c7ba405ec9a5be8aab3": {
     "model_module": "@jupyter-widgets/base",
     "model_name": "LayoutModel",
     "state": {
      "_model_module": "@jupyter-widgets/base",
      "_model_module_version": "1.2.0",
      "_model_name": "LayoutModel",
      "_view_count": null,
      "_view_module": "@jupyter-widgets/base",
      "_view_module_version": "1.2.0",
      "_view_name": "LayoutView",
      "align_content": null,
      "align_items": null,
      "align_self": "stretch",
      "border": null,
      "bottom": null,
      "display": null,
      "flex": null,
      "flex_flow": null,
      "grid_area": null,
      "grid_auto_columns": null,
      "grid_auto_flow": null,
      "grid_auto_rows": null,
      "grid_column": null,
      "grid_gap": null,
      "grid_row": null,
      "grid_template_areas": null,
      "grid_template_columns": null,
      "grid_template_rows": null,
      "height": "500px",
      "justify_content": null,
      "justify_items": null,
      "left": null,
      "margin": null,
      "max_height": null,
      "max_width": null,
      "min_height": null,
      "min_width": null,
      "object_fit": null,
      "object_position": null,
      "order": null,
      "overflow": null,
      "overflow_x": null,
      "overflow_y": null,
      "padding": null,
      "right": null,
      "top": null,
      "visibility": null,
      "width": null
     }
    },
    "cf5eeb73aca94612bfb1c5255cfaf10c": {
     "model_module": "@jupyter-widgets/base",
     "model_name": "DOMWidgetModel",
     "state": {
      "_dom_classes": [],
      "_model_module": "@jupyter-widgets/base",
      "_model_module_version": "1.2.0",
      "_model_name": "DOMWidgetModel",
      "_view_count": null,
      "_view_module": "catboost_module",
      "_view_module_version": "",
      "_view_name": "CatboostIpythonWidgetView",
      "data": {
       "catboost_info": {
        "content": {
         "data": {
          "iterations": [
           {
            "iteration": 0,
            "learn": [
             0.6451216157
            ],
            "passed_time": 0.05109047134,
            "remaining_time": 2.503433096,
            "test": [
             0.6464773732
            ]
           },
           {
            "iteration": 1,
            "learn": [
             0.6103544142
            ],
            "passed_time": 0.0517819274,
            "remaining_time": 1.242766258,
            "test": [
             0.6131102779
            ]
           },
           {
            "iteration": 2,
            "learn": [
             0.5714645545
            ],
            "passed_time": 0.05247155478,
            "remaining_time": 0.8220543582,
            "test": [
             0.5743517878
            ]
           },
           {
            "iteration": 3,
            "learn": [
             0.5352098567
            ],
            "passed_time": 0.05313699421,
            "remaining_time": 0.6110754334,
            "test": [
             0.5402307177
            ]
           },
           {
            "iteration": 4,
            "learn": [
             0.5072368616
            ],
            "passed_time": 0.05382311512,
            "remaining_time": 0.484408036,
            "test": [
             0.5125548606
            ]
           },
           {
            "iteration": 5,
            "learn": [
             0.4855302676
            ],
            "passed_time": 0.05463336228,
            "remaining_time": 0.4006446567,
            "test": [
             0.4922576835
            ]
           },
           {
            "iteration": 6,
            "learn": [
             0.4657361299
            ],
            "passed_time": 0.05530003952,
            "remaining_time": 0.3397002428,
            "test": [
             0.4759139962
            ]
           },
           {
            "iteration": 7,
            "learn": [
             0.4411013317
            ],
            "passed_time": 0.05657527169,
            "remaining_time": 0.2970201764,
            "test": [
             0.4517731776
            ]
           },
           {
            "iteration": 8,
            "learn": [
             0.4207878497
            ],
            "passed_time": 0.05729374958,
            "remaining_time": 0.2610048592,
            "test": [
             0.4308913115
            ]
           },
           {
            "iteration": 9,
            "learn": [
             0.4012738895
            ],
            "passed_time": 0.05798806343,
            "remaining_time": 0.2319522537,
            "test": [
             0.4130366671
            ]
           },
           {
            "iteration": 10,
            "learn": [
             0.3857583497
            ],
            "passed_time": 0.05866819876,
            "remaining_time": 0.208005432,
            "test": [
             0.3962281449
            ]
           },
           {
            "iteration": 11,
            "learn": [
             0.3733329174
            ],
            "passed_time": 0.06029721168,
            "remaining_time": 0.1909411703,
            "test": [
             0.3852491477
            ]
           },
           {
            "iteration": 12,
            "learn": [
             0.3627322904
            ],
            "passed_time": 0.06096174459,
            "remaining_time": 0.1735065038,
            "test": [
             0.3732723748
            ]
           },
           {
            "iteration": 13,
            "learn": [
             0.3482251764
            ],
            "passed_time": 0.06162024107,
            "remaining_time": 0.1584520485,
            "test": [
             0.3603897667
            ]
           },
           {
            "iteration": 14,
            "learn": [
             0.3403047628
            ],
            "passed_time": 0.0628526603,
            "remaining_time": 0.1466562074,
            "test": [
             0.3528813778
            ]
           },
           {
            "iteration": 15,
            "learn": [
             0.3293440129
            ],
            "passed_time": 0.06398463862,
            "remaining_time": 0.1359673571,
            "test": [
             0.3426509511
            ]
           },
           {
            "iteration": 16,
            "learn": [
             0.3214899867
            ],
            "passed_time": 0.06465221628,
            "remaining_time": 0.125501361,
            "test": [
             0.3357812516
            ]
           },
           {
            "iteration": 17,
            "learn": [
             0.3131593213
            ],
            "passed_time": 0.06534362104,
            "remaining_time": 0.1161664374,
            "test": [
             0.3263351485
            ]
           },
           {
            "iteration": 18,
            "learn": [
             0.3048659506
            ],
            "passed_time": 0.06599785713,
            "remaining_time": 0.1076807143,
            "test": [
             0.3181859935
            ]
           },
           {
            "iteration": 19,
            "learn": [
             0.2987673294
            ],
            "passed_time": 0.06665200452,
            "remaining_time": 0.09997800679,
            "test": [
             0.3114504162
            ]
           },
           {
            "iteration": 20,
            "learn": [
             0.293088586
            ],
            "passed_time": 0.06732107347,
            "remaining_time": 0.0929671967,
            "test": [
             0.3059227819
            ]
           },
           {
            "iteration": 21,
            "learn": [
             0.2847184402
            ],
            "passed_time": 0.06801550862,
            "remaining_time": 0.08656519279,
            "test": [
             0.2998986595
            ]
           },
           {
            "iteration": 22,
            "learn": [
             0.2775033608
            ],
            "passed_time": 0.0686870458,
            "remaining_time": 0.08063261898,
            "test": [
             0.291518665
            ]
           },
           {
            "iteration": 23,
            "learn": [
             0.2715367071
            ],
            "passed_time": 0.06934738268,
            "remaining_time": 0.07512633124,
            "test": [
             0.2849147625
            ]
           },
           {
            "iteration": 24,
            "learn": [
             0.2669436275
            ],
            "passed_time": 0.07005465637,
            "remaining_time": 0.07005465637,
            "test": [
             0.2810592808
            ]
           },
           {
            "iteration": 25,
            "learn": [
             0.2628906917
            ],
            "passed_time": 0.07326521455,
            "remaining_time": 0.06762942881,
            "test": [
             0.2766286788
            ]
           },
           {
            "iteration": 26,
            "learn": [
             0.2599367859
            ],
            "passed_time": 0.07396365399,
            "remaining_time": 0.06300607562,
            "test": [
             0.2735904343
            ]
           },
           {
            "iteration": 27,
            "learn": [
             0.2558430866
            ],
            "passed_time": 0.074641975,
            "remaining_time": 0.05864726607,
            "test": [
             0.2703665147
            ]
           },
           {
            "iteration": 28,
            "learn": [
             0.2503432026
            ],
            "passed_time": 0.07542537424,
            "remaining_time": 0.05461837445,
            "test": [
             0.265669671
            ]
           },
           {
            "iteration": 29,
            "learn": [
             0.2465828701
            ],
            "passed_time": 0.07695633623,
            "remaining_time": 0.05130422415,
            "test": [
             0.2616333387
            ]
           },
           {
            "iteration": 30,
            "learn": [
             0.2445114222
            ],
            "passed_time": 0.07782690394,
            "remaining_time": 0.04770036048,
            "test": [
             0.2596033043
            ]
           },
           {
            "iteration": 31,
            "learn": [
             0.2388764269
            ],
            "passed_time": 0.0787251326,
            "remaining_time": 0.04428288709,
            "test": [
             0.2563823069
            ]
           },
           {
            "iteration": 32,
            "learn": [
             0.2357878565
            ],
            "passed_time": 0.07981453494,
            "remaining_time": 0.0411165786,
            "test": [
             0.2530172149
            ]
           },
           {
            "iteration": 33,
            "learn": [
             0.232876467
            ],
            "passed_time": 0.08052782594,
            "remaining_time": 0.0378954475,
            "test": [
             0.2502346337
            ]
           },
           {
            "iteration": 34,
            "learn": [
             0.2294938648
            ],
            "passed_time": 0.08145745421,
            "remaining_time": 0.03491033752,
            "test": [
             0.246172754
            ]
           },
           {
            "iteration": 35,
            "learn": [
             0.2269638305
            ],
            "passed_time": 0.08213844692,
            "remaining_time": 0.03194272936,
            "test": [
             0.2440893518
            ]
           },
           {
            "iteration": 36,
            "learn": [
             0.224873348
            ],
            "passed_time": 0.0830348143,
            "remaining_time": 0.02917439421,
            "test": [
             0.2421171085
            ]
           },
           {
            "iteration": 37,
            "learn": [
             0.2197719469
            ],
            "passed_time": 0.08372326257,
            "remaining_time": 0.02643892502,
            "test": [
             0.2361887706
            ]
           },
           {
            "iteration": 38,
            "learn": [
             0.2168036504
            ],
            "passed_time": 0.08436259015,
            "remaining_time": 0.02379457671,
            "test": [
             0.2329276593
            ]
           },
           {
            "iteration": 39,
            "learn": [
             0.2148580641
            ],
            "passed_time": 0.08524428772,
            "remaining_time": 0.02131107193,
            "test": [
             0.2320676796
            ]
           },
           {
            "iteration": 40,
            "learn": [
             0.2128030966
            ],
            "passed_time": 0.08603195909,
            "remaining_time": 0.01888506419,
            "test": [
             0.2302753219
            ]
           },
           {
            "iteration": 41,
            "learn": [
             0.2089119569
            ],
            "passed_time": 0.08680390021,
            "remaining_time": 0.01653407623,
            "test": [
             0.2284978186
            ]
           },
           {
            "iteration": 42,
            "learn": [
             0.2061516865
            ],
            "passed_time": 0.0875604411,
            "remaining_time": 0.0142540253,
            "test": [
             0.2272185607
            ]
           },
           {
            "iteration": 43,
            "learn": [
             0.2038589321
            ],
            "passed_time": 0.0883844707,
            "remaining_time": 0.01205242782,
            "test": [
             0.2247000122
            ]
           },
           {
            "iteration": 44,
            "learn": [
             0.2010282857
            ],
            "passed_time": 0.08918102413,
            "remaining_time": 0.009909002681,
            "test": [
             0.2227969791
            ]
           },
           {
            "iteration": 45,
            "learn": [
             0.1997979596
            ],
            "passed_time": 0.09014916495,
            "remaining_time": 0.007839057822,
            "test": [
             0.2220707547
            ]
           },
           {
            "iteration": 46,
            "learn": [
             0.1963933626
            ],
            "passed_time": 0.09098223053,
            "remaining_time": 0.005807376417,
            "test": [
             0.2200739976
            ]
           },
           {
            "iteration": 47,
            "learn": [
             0.1943766943
            ],
            "passed_time": 0.09180164149,
            "remaining_time": 0.003825068395,
            "test": [
             0.2185983235
            ]
           },
           {
            "iteration": 48,
            "learn": [
             0.1907415125
            ],
            "passed_time": 0.09249162191,
            "remaining_time": 0.001887584121,
            "test": [
             0.21349982
            ]
           },
           {
            "iteration": 49,
            "learn": [
             0.1884041605
            ],
            "passed_time": 0.09312713824,
            "remaining_time": 0,
            "test": [
             0.211671924
            ]
           }
          ],
          "meta": {
           "iteration_count": 50,
           "launch_mode": "Train",
           "learn_metrics": [
            {
             "best_value": "Min",
             "name": "CrossEntropy"
            }
           ],
           "learn_sets": [
            "learn"
           ],
           "name": "experiment",
           "parameters": "",
           "test_metrics": [
            {
             "best_value": "Min",
             "name": "CrossEntropy"
            }
           ],
           "test_sets": [
            "test"
           ]
          }
         },
         "passed_iterations": 49,
         "total_iterations": 50
        },
        "name": "catboost_info",
        "path": "catboost_info"
       }
      },
      "layout": "IPY_MODEL_025735f1bec04c7ba405ec9a5be8aab3"
     }
    }
   }
  }
 },
 "nbformat": 4,
 "nbformat_minor": 1
}
